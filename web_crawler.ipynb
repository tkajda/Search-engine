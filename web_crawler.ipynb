{
 "cells": [
  {
   "cell_type": "code",
   "execution_count": 55,
   "metadata": {},
   "outputs": [],
   "source": [
    "import requests as req\n",
    "from urllib.parse import urljoin\n",
    "import bs4\n",
    "import logging"
   ]
  },
  {
   "cell_type": "code",
   "execution_count": 56,
   "metadata": {},
   "outputs": [],
   "source": [
    "logging.basicConfig(\n",
    "    format='%(asctime)s %(levelname)s:%(message)s',\n",
    "    level=logging.INFO)\n",
    "\n",
    "class Crawler:\n",
    "\n",
    "    def __init__(self, urls=[], file_counter=0, num_of_files=int(5e4)):\n",
    "        self.visited_urls = {}\n",
    "        self.urls_to_visit = urls\n",
    "        self.file_counter = file_counter\n",
    "        self.start_of_url = 'https://en.wikipedia.org'\n",
    "        self.num_of_files= num_of_files\n",
    "\n",
    "\n",
    "    def download_url(self, url):\n",
    "        return req.get(url).text\n",
    "\n",
    "    def write_text_to_file(self, article, f_name):\n",
    "        if article:\n",
    "\n",
    "            self.file_counter += 1\n",
    "\n",
    "            path = 'DIR/' + str(f_name[6:]) + '.txt'\n",
    "\n",
    "            with open(path, 'w+', encoding='utf-8') as f:\n",
    "\n",
    "                f.write(article.text)\n",
    "\n",
    "\n",
    "\n",
    "    def get_linked_a(self,html, f_name):\n",
    "        \n",
    "        soup = bs4.BeautifulSoup(html, 'html.parser')\n",
    "        article = soup.find('div', {\"class\":\"mw-parser-output\"})\n",
    "\n",
    "        self.write_text_to_file(article, f_name)\n",
    "\n",
    "        a = {}\n",
    "        for link in soup.find_all('a'):\n",
    "            \n",
    "            path = link.get('href')\n",
    "            if path and path.startswith('/wiki') and path[6:11] != 'File:':\n",
    "                a[path] = path\n",
    "\n",
    "        return a\n",
    "\n",
    "\n",
    "    def crawl(self, url, f_name):\n",
    "        \n",
    "        html = self.download_url(url)\n",
    "\n",
    "        for singleAtag in self.get_linked_a(html, f_name).values():\n",
    "\n",
    "            if singleAtag and (len(self.urls_to_visit) < 130)  and (singleAtag not in self.urls_to_visit) and (singleAtag not in self.visited_urls):\n",
    "                self.urls_to_visit.append(singleAtag)\n",
    "\n",
    "\n",
    "\n",
    "\n",
    "    def run(self):\n",
    "\n",
    "        while self.urls_to_visit and self.file_counter<self.num_of_files:\n",
    "\n",
    "            tmp = self.urls_to_visit.pop(0)\n",
    "            url = str(self.start_of_url) + str(tmp)\n",
    "            try:\n",
    "                logging.info(f'Crawling: {url}')\n",
    "                self.visited_urls[tmp] = 1\n",
    "                self.crawl(url,tmp)\n",
    "            except Exception:\n",
    "                logging.exception(f'Failed to crawl: {url}')\n",
    "\n"
   ]
  },
  {
   "cell_type": "code",
   "execution_count": null,
   "metadata": {},
   "outputs": [],
   "source": [
    "if __name__ == '__main__':\n",
    "    clawler = Crawler(urls=['/wiki/Tea'])\n",
    "    clawler.run()"
   ]
  }
 ],
 "metadata": {
  "interpreter": {
   "hash": "5179d32cf6ec497baf3f8a3ef987cc77c5d2dc691fdde20a56316522f61a7323"
  },
  "kernelspec": {
   "display_name": "Python 3.9.7 ('base')",
   "language": "python",
   "name": "python3"
  },
  "language_info": {
   "codemirror_mode": {
    "name": "ipython",
    "version": 3
   },
   "file_extension": ".py",
   "mimetype": "text/x-python",
   "name": "python",
   "nbconvert_exporter": "python",
   "pygments_lexer": "ipython3",
   "version": "3.9.7"
  },
  "orig_nbformat": 4
 },
 "nbformat": 4,
 "nbformat_minor": 2
}
