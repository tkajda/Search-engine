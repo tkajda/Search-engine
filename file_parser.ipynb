{
 "cells": [
  {
   "cell_type": "code",
   "execution_count": 119,
   "metadata": {},
   "outputs": [],
   "source": [
    "from os.path import exists\n",
    "from nltk.stem import PorterStemmer\n",
    "from nltk.tokenize import word_tokenize\n",
    "from nltk.corpus import stopwords\n",
    "import codecs\n",
    "import os\n"
   ]
  },
  {
   "cell_type": "code",
   "execution_count": 120,
   "metadata": {},
   "outputs": [],
   "source": [
    "#file parser\n",
    "stop_words = set(stopwords.words('english'))\n",
    "stemmer = PorterStemmer()\n",
    "\n",
    "def stem_text(text):\n",
    "\n",
    "   \n",
    "    def filter_words(word):\n",
    "        return not (word in stop_words)\n",
    "    \n",
    "    def is_correct(word):\n",
    "        return len(word)>2 and word.isalpha()\n",
    "\n",
    "        \n",
    "    tokens = word_tokenize(text)\n",
    "    word_limit_per_article = int(1e4) \n",
    "    words_list = []\n",
    "    \n",
    "    for i, word in enumerate(tokens):\n",
    "\n",
    "        if filter_words(word) and is_correct(word):\n",
    "            words_list.append(word)\n",
    "\n",
    "        if i > word_limit_per_article:\n",
    "            break\n",
    "\n",
    "\n",
    "\n",
    "    for i, w in enumerate(words_list):\n",
    "        words_list[i] = stemmer.stem(w)\n",
    "        \n",
    "    res = \" \".join(words_list)\n",
    "    \n",
    "    return res\n",
    "\n",
    "\n",
    "\n",
    "def parse_file(file_name, new_name):\n",
    "    res = \"\"\n",
    "    with codecs.open(file_name,'r', errors=\"ignore\", encoding=\"utf-8\") as f:\n",
    "        for line in f.readlines():\n",
    "            if not line.isspace():\n",
    "                res += line\n",
    "\n",
    "    res1 = stem_text(res)\n",
    "    \n",
    "    with codecs.open(new_name, 'w+', errors=\"ignore\", encoding=\"utf-8\") as f:\n",
    "        f.write(res1)\n",
    "    \n",
    "    \n",
    "\n",
    "def parse_files():\n",
    "    directory = 'DIR' \n",
    "    parsed_files = 'parsed_files/'\n",
    "    suffix = '.txt'\n",
    "\n",
    "    for i, filename in enumerate(os.listdir(directory)):\n",
    "        file_name = os.path.join(directory, filename)\n",
    "        new_name = parsed_files + str(i)+\"@\"+filename\n",
    "\n",
    "        if exists(file_name):\n",
    "            parse_file(file_name, new_name)\n",
    "\n",
    "\n"
   ]
  },
  {
   "cell_type": "code",
   "execution_count": 31,
   "metadata": {},
   "outputs": [],
   "source": [
    "parse_files()\n"
   ]
  },
  {
   "cell_type": "markdown",
   "metadata": {},
   "source": [
    "Od teraz pliki nie posiadją pustych linii, a słowa są 'zestemowane' oraz odfiltrowane, tak aby nie były one 'stop wordami'."
   ]
  }
 ],
 "metadata": {
  "interpreter": {
   "hash": "5179d32cf6ec497baf3f8a3ef987cc77c5d2dc691fdde20a56316522f61a7323"
  },
  "kernelspec": {
   "display_name": "Python 3.9.7 ('base')",
   "language": "python",
   "name": "python3"
  },
  "language_info": {
   "codemirror_mode": {
    "name": "ipython",
    "version": 3
   },
   "file_extension": ".py",
   "mimetype": "text/x-python",
   "name": "python",
   "nbconvert_exporter": "python",
   "pygments_lexer": "ipython3",
   "version": "3.9.7"
  },
  "orig_nbformat": 4
 },
 "nbformat": 4,
 "nbformat_minor": 2
}
